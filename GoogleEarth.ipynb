{
 "cells": [
  {
   "cell_type": "code",
   "execution_count": 1,
   "id": "adccfdfe",
   "metadata": {},
   "outputs": [],
   "source": [
    "# pip install earthengine-api\n",
    "import ee"
   ]
  },
  {
   "cell_type": "code",
   "execution_count": 6,
   "id": "30d124a7",
   "metadata": {},
   "outputs": [
    {
     "name": "stdout",
     "output_type": "stream",
     "text": [
      "The Earth Engine package failed to initialize!\n"
     ]
    }
   ],
   "source": [
    "try:\n",
    "  ee.Initialize()\n",
    "  print('The Earth Engine package initialized successfully!')\n",
    "except ee.EEException as e:\n",
    "  print('The Earth Engine package failed to initialize!')\n",
    "except:\n",
    "    print(\"Unexpected error:\", sys.exc_info()[0])\n",
    "    raise"
   ]
  },
  {
   "cell_type": "code",
   "execution_count": 13,
   "id": "7d35c17c",
   "metadata": {},
   "outputs": [],
   "source": [
    "import ssl\n",
    "\n",
    "ssl._create_default_https_context = ssl._create_unverified_context"
   ]
  },
  {
   "cell_type": "code",
   "execution_count": 15,
   "id": "df80f405",
   "metadata": {},
   "outputs": [
    {
     "data": {
      "text/html": [
       "<p>To authorize access needed by Earth Engine, open the following\n",
       "        URL in a web browser and follow the instructions:</p>\n",
       "        <p><a href=https://accounts.google.com/o/oauth2/auth?client_id=517222506229-vsmmajv00ul0bs7p89v5m89qs8eb9359.apps.googleusercontent.com&scope=https%3A%2F%2Fwww.googleapis.com%2Fauth%2Fearthengine+https%3A%2F%2Fwww.googleapis.com%2Fauth%2Fdevstorage.full_control&redirect_uri=urn%3Aietf%3Awg%3Aoauth%3A2.0%3Aoob&response_type=code&code_challenge=Y7qscWMpu-WirjmOso_b7P9PbmmUJf4R_MWv0Ht_qP0&code_challenge_method=S256>https://accounts.google.com/o/oauth2/auth?client_id=517222506229-vsmmajv00ul0bs7p89v5m89qs8eb9359.apps.googleusercontent.com&scope=https%3A%2F%2Fwww.googleapis.com%2Fauth%2Fearthengine+https%3A%2F%2Fwww.googleapis.com%2Fauth%2Fdevstorage.full_control&redirect_uri=urn%3Aietf%3Awg%3Aoauth%3A2.0%3Aoob&response_type=code&code_challenge=Y7qscWMpu-WirjmOso_b7P9PbmmUJf4R_MWv0Ht_qP0&code_challenge_method=S256</a></p>\n",
       "        <p>The authorization workflow will generate a code, which you\n",
       "        should paste in the box below</p>\n",
       "        "
      ],
      "text/plain": [
       "<IPython.core.display.HTML object>"
      ]
     },
     "metadata": {},
     "output_type": "display_data"
    },
    {
     "name": "stdout",
     "output_type": "stream",
     "text": [
      "Enter verification code: 4/1AX4XfWj1SbCmHyavTYar1C76521h7flVKs_2E9np3L840yq1WfdkM6PwhNk\n",
      "\n",
      "Successfully saved authorization token.\n"
     ]
    }
   ],
   "source": [
    "ee.Authenticate()"
   ]
  },
  {
   "cell_type": "code",
   "execution_count": 18,
   "id": "eca9fcf5",
   "metadata": {},
   "outputs": [],
   "source": [
    "ee.Initialize()"
   ]
  },
  {
   "cell_type": "code",
   "execution_count": 82,
   "id": "2b8a3e85",
   "metadata": {},
   "outputs": [],
   "source": [
    "gfd = ee.ImageCollection(\"GLOBAL_FLOOD_DB/MODIS_EVENTS/V1\")"
   ]
  },
  {
   "cell_type": "code",
   "execution_count": 84,
   "id": "16ccad31",
   "metadata": {},
   "outputs": [],
   "source": [
    "sentinel1 = ee.ImageCollection('COPERNICUS/S1_GRD').filterDate('2020-06-01', '2020-10-01')"
   ]
  },
  {
   "cell_type": "code",
   "execution_count": 96,
   "id": "9d87be1b",
   "metadata": {},
   "outputs": [],
   "source": [
    "gfd_USA = gfd.select(\"flooded\",\"duration\",\"jrc_perm_water\")"
   ]
  },
  {
   "cell_type": "code",
   "execution_count": 97,
   "id": "72e4b941",
   "metadata": {},
   "outputs": [],
   "source": [
    "a= gfd_USA.filter(ee.Filter.stringContains('cc', 'USA'))"
   ]
  },
  {
   "cell_type": "code",
   "execution_count": 98,
   "id": "ed3c42bb",
   "metadata": {},
   "outputs": [
    {
     "data": {
      "text/plain": [
       "98"
      ]
     },
     "execution_count": 98,
     "metadata": {},
     "output_type": "execute_result"
    }
   ],
   "source": [
    "a.size().getInfo()"
   ]
  }
 ],
 "metadata": {
  "kernelspec": {
   "display_name": "Python 3 (ipykernel)",
   "language": "python",
   "name": "python3"
  },
  "language_info": {
   "codemirror_mode": {
    "name": "ipython",
    "version": 3
   },
   "file_extension": ".py",
   "mimetype": "text/x-python",
   "name": "python",
   "nbconvert_exporter": "python",
   "pygments_lexer": "ipython3",
   "version": "3.9.6"
  }
 },
 "nbformat": 4,
 "nbformat_minor": 5
}
